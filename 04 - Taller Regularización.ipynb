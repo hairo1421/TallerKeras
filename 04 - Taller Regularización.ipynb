{
 "cells": [
  {
   "cell_type": "markdown",
   "metadata": {},
   "source": [
    "# 04 - Advanced deep-learning best practices"
   ]
  },
  {
   "cell_type": "markdown",
   "metadata": {},
   "source": [
    "## 04.1 - Monitoreando modelos de Deep Learning usando Keras callbacks y TensorBoard"
   ]
  },
  {
   "cell_type": "markdown",
   "metadata": {},
   "source": [
    "### 04.1.1 - Callbacks"
   ]
  },
  {
   "cell_type": "markdown",
   "metadata": {},
   "source": [
    "* **Model checkpointing** : Guarda los pesos actuales del modelo en diferentes puntos del entrenamiento\n",
    "\n",
    "\n",
    "* **Early stopping**: Interrumpe el entrenamiento cuando el error de validación no mejora (guarda el mejor modelo obtenido en el entrenamiento)\n",
    "\n",
    "\n",
    "* **Dynamically adjusting the value of certain parameters during training**: Tal como el learning rate del optimizador \n",
    "\n",
    "\n",
    "* **Logging training and validation metrics during training, or visualizing the representations\n",
    "learned by the model as they’re updated** : La barra del progreso de Keras\n"
   ]
  },
  {
   "cell_type": "code",
   "execution_count": null,
   "metadata": {},
   "outputs": [],
   "source": [
    "import keras\n",
    "keras.callbacks.ModelCheckpoint\n",
    "keras.callbacks.EarlyStopping\n",
    "keras.callbacks.LearningRateScheduler\n",
    "keras.callbacks.ReduceLROnPlateau\n",
    "keras.callbacks.CSVLogger"
   ]
  },
  {
   "cell_type": "markdown",
   "metadata": {},
   "source": [
    "**THE MODELCHECKPOINT AND EARLYSTOPPING CALLBACKS**\n",
    "\n",
    "* **EarlyStopping callback:** interrumpe el entrenamiento una vez que la metrica a monitorear deja de mejorar para un número fijo de epocas. Permite detener el entrenamiento antes de presentar problemas de overfitting\n",
    "\n",
    "\n",
    "* **ModelCechpoint**: permite guardr continuamente el modelo durante el entrenamiento (sólo guarda el mejor modelo: el modelo que registra la mejor actuación al final de cada epoca)"
   ]
  },
  {
   "cell_type": "code",
   "execution_count": null,
   "metadata": {},
   "outputs": [],
   "source": [
    "import keras\n",
    "\n",
    "# Callback se pasa como argumento en la parte del \"fit\"\n",
    "# por medio de objeto lista puede pasar cualquier número de callbacks\n",
    "\n",
    "callbacks_list = [ keras.callbacks.EarlyStopping( monitor='acc', patience=1,), # Interrumpe entrenamiento cuando no hay mejora\n",
    "                  \n",
    "                  # monitor -> Monitorea el accuracy de validación del modelo\n",
    "                  # patience -> Interrumpe el entrenamiento cuando el accuracy no mejora apartir de una epoca\n",
    "                  \n",
    "                  keras.callbacks.ModelCheckpoint(filepath='my_model.h5', monitor='val_loss', save_best_only=True,)] # Saves the current weights after every epoch\n",
    "                # filepath -> Dirrecchion a guardar del modelo\n",
    "                # monitor & save_best_only ->  Significan que tu no quieres sobre escribir\n",
    "                # los modelos solo si el error de validación mejora\n",
    "                # permitiendo guardar solo los mejores modelos durante el entrenamiento.\n",
    "        \n",
    "\n",
    "# Si monitoreas accuracy, debe ser parte de tu metrica\n",
    "model.compile(optimizer='rmsprop', loss='binary_crossentropy', metrics=['acc'])\n",
    "\n",
    "# Note that because the callback will monitor validation loss and validation accuracy, you need to pass validation_data to the call to fit.\n",
    "model.fit(x, y, epochs=10, batch_size=32, callbacks=callbacks_list, validation_data=(x_val, y_val) )"
   ]
  },
  {
   "cell_type": "markdown",
   "metadata": {},
   "source": [
    "**THE REDUCELRONPLATEAU CALLBACK**\n",
    "\n",
    "* Reduce el learnig rate cuando el error de validación no mejora. Es una estrategia efectiva para salir de mínimos locales durante el entrenamiento"
   ]
  },
  {
   "cell_type": "code",
   "execution_count": null,
   "metadata": {},
   "outputs": [],
   "source": [
    "callbacks_list = [\n",
    "keras.callbacks.ReduceLROnPlateau(\n",
    "monitor='val_loss' # Monitorea el error de validación del modelo\n",
    "factor=0.1, # Divide la tasa de aprendizaje por 10 cuando se activa\n",
    "patience=10, # El callback se activa a partir de que el error de validación deja de \n",
    "            # mejorar durante 10 epocas\n",
    ")\n",
    "]\n",
    "\n",
    "\n",
    "model.fit(x, y,\n",
    "epochs=10,\n",
    "batch_size=32,\n",
    "callbacks=callbacks_list,\n",
    "validation_data=(x_val, y_val))"
   ]
  },
  {
   "cell_type": "markdown",
   "metadata": {},
   "source": [
    "**Escribiendo tu propio callback**\n",
    "\n",
    "* Si requieres de una acción en especifico durante el entrenamiento es conveniente construir tu popio callback"
   ]
  },
  {
   "cell_type": "code",
   "execution_count": null,
   "metadata": {},
   "outputs": [],
   "source": [
    "keras.callbacks.Callback\n",
    "\n",
    "on_epoch_begin # Called at the start of every epoch\n",
    "on_epoch_end # Called at the end of every epoch\n",
    "on_batch_begin # Called right before processing each batch\n",
    "on_batch_end # Called right after processing each batch\n",
    "on_train_begin # Called at the start of training\n",
    "on_train_end # Called at the end of training"
   ]
  },
  {
   "cell_type": "markdown",
   "metadata": {},
   "source": [
    "* Estos métodos son llamados con un argumento logs, el cual es un diccionario que contiene la información respecto a los lotes previos, epocas, o el registro del entrenamiento"
   ]
  },
  {
   "cell_type": "markdown",
   "metadata": {},
   "source": [
    "Ejemplo: Guardar las capaz de activación del modelo al final de cada epoca, esto solo para el primer sample del conjunto de validación"
   ]
  },
  {
   "cell_type": "code",
   "execution_count": null,
   "metadata": {},
   "outputs": [],
   "source": [
    "import keras\n",
    "import numpy as np\n",
    "\n",
    "class ActivationLogger(keras.callbacks.Callback):\n",
    "    # Called by the parent model before training, to inform the callback of what model will be calling it\n",
    "    def set_model(self, model):\n",
    "        self.model = model\n",
    "        layer_outputs = [layer.output for layer in model.layers]\n",
    "        self.activations_model = keras.models.Model(model.input,layer_outputs)\n",
    "    # Model instance that returns the activations of every layer    \n",
    "    def on_epoch_end(self, epoch, logs=None):\n",
    "        if self.validation_data is None:\n",
    "            raise RuntimeError('Requires validation_data.')\n",
    "            \n",
    "    validation_sample = self.validation_data[0][0:1] # Obtains the first input sample of the validation data\n",
    "    activations = self.activations_model.predict(validation_sample)\n",
    "    f = open('activations_at_epoch_' + str(epoch) + '.npz', 'w') # Saves arrays to disk\n",
    "    np.savez(f, activations)\n",
    "    f.close()"
   ]
  },
  {
   "cell_type": "markdown",
   "metadata": {},
   "source": [
    "### 04.1. - TensorBoard"
   ]
  },
  {
   "cell_type": "markdown",
   "metadata": {},
   "source": [
    "Herramienta de visualización de Tensorflow\n",
    "\n",
    "* Visualiza el monitoreo de las métricas durante el entrenamiento\n",
    "\n",
    "* Visualiza la arquitectura del modelo\n",
    "\n",
    "* Visualiza histogramas de activación y gradiente\n",
    "\n",
    "* Explora embedding en 3D"
   ]
  },
  {
   "cell_type": "markdown",
   "metadata": {},
   "source": [
    "Ejemplo: Clasificación de Texto con TensorBoard\n",
    "\n",
    "Datos -> IMDB data análisis de sentimientos"
   ]
  },
  {
   "cell_type": "code",
   "execution_count": 4,
   "metadata": {},
   "outputs": [
    {
     "name": "stdout",
     "output_type": "stream",
     "text": [
      "_________________________________________________________________\n",
      "Layer (type)                 Output Shape              Param #   \n",
      "=================================================================\n",
      "embed (Embedding)            (None, 500, 128)          256000    \n",
      "_________________________________________________________________\n",
      "conv1d_3 (Conv1D)            (None, 494, 32)           28704     \n",
      "_________________________________________________________________\n",
      "max_pooling1d_2 (MaxPooling1 (None, 98, 32)            0         \n",
      "_________________________________________________________________\n",
      "conv1d_4 (Conv1D)            (None, 92, 32)            7200      \n",
      "_________________________________________________________________\n",
      "global_max_pooling1d_2 (Glob (None, 32)                0         \n",
      "_________________________________________________________________\n",
      "dense_2 (Dense)              (None, 1)                 33        \n",
      "=================================================================\n",
      "Total params: 291,937\n",
      "Trainable params: 291,937\n",
      "Non-trainable params: 0\n",
      "_________________________________________________________________\n"
     ]
    }
   ],
   "source": [
    "import keras\n",
    "from keras import layers\n",
    "from keras.datasets import imdb\n",
    "from keras.preprocessing import sequence\n",
    "import numpy as np\n",
    "\n",
    "max_features = 2000\n",
    "max_len = 500\n",
    "\n",
    "# save np.load\n",
    "np_load_old = np.load\n",
    "\n",
    "# modify the default parameters of np.load\n",
    "np.load = lambda *a,**k: np_load_old(*a, allow_pickle=True, **k)\n",
    "\n",
    "# Loads the data as lists of integers\n",
    "(x_train, y_train), (x_test, y_test) = imdb.load_data(num_words=max_features)\n",
    "# importando los datos como una secuencia de números, índices\n",
    "\n",
    "\n",
    "# restore np.load for future normal usage\n",
    "np.load = np_load_old\n",
    "\n",
    "x_train = sequence.pad_sequences(x_train, maxlen=max_len)\n",
    "x_test = sequence.pad_sequences(x_test, maxlen=max_len)\n",
    "model = keras.models.Sequential()\n",
    "model.add(layers.Embedding(max_features, 128,\n",
    "input_length=max_len,\n",
    "name='embed'))\n",
    "model.add(layers.Conv1D(32, 7, activation='relu'))\n",
    "model.add(layers.MaxPooling1D(5))\n",
    "model.add(layers.Conv1D(32, 7, activation='relu'))\n",
    "model.add(layers.GlobalMaxPooling1D())\n",
    "model.add(layers.Dense(1))\n",
    "model.summary()\n",
    "model.compile(optimizer='rmsprop',\n",
    "loss='binary_crossentropy',\n",
    "metrics=['acc'])"
   ]
  },
  {
   "cell_type": "markdown",
   "metadata": {},
   "source": [
    "Crear dir:\n",
    "\n",
    "* mkdir my_log_dir\n"
   ]
  },
  {
   "cell_type": "code",
   "execution_count": null,
   "metadata": {},
   "outputs": [],
   "source": [
    "import keras \n",
    "callbacks = [keras.callbacks.TensorBoard(\n",
    "    log_dir = 'taller_keras',\n",
    "    histogram_freq = 1,\n",
    "    embeddings_freq = 1,\n",
    "    embeddings_data = test, # esto yo se lo puse\n",
    ")]\n",
    "\n",
    "history = model.fit(train, label_train,\n",
    "epochs=1,\n",
    "batch_size=128,\n",
    "validation_split=0.2,\n",
    "callbacks=callbacks)"
   ]
  },
  {
   "cell_type": "markdown",
   "metadata": {},
   "source": [
    "Escribir:\n",
    "\n",
    "tensorboard --logdir=my_log_dir\n",
    "\n",
    "ir a: \n",
    "\n",
    "http://localhost:6006"
   ]
  },
  {
   "cell_type": "markdown",
   "metadata": {},
   "source": [
    "Otra manera de visualizar el modelo:"
   ]
  },
  {
   "cell_type": "code",
   "execution_count": 5,
   "metadata": {},
   "outputs": [
    {
     "data": {
      "image/png": "[encoded data removed]",
      "text/plain": [
       "<IPython.core.display.Image object>"
      ]
     },
     "execution_count": 5,
     "metadata": {
      "image/png": {
       "height": 322,
       "width": 196
      }
     },
     "output_type": "execute_result"
    }
   ],
   "source": [
    "from keras.utils import plot_model\n",
    "plot_model(model, to_file='model.png')\n",
    "from IPython.display import Image\n",
    "Image(retina=True, filename='model.png')"
   ]
  },
  {
   "cell_type": "code",
   "execution_count": 6,
   "metadata": {},
   "outputs": [
    {
     "data": {
      "image/png": "[encoded data removed]",
      "text/plain": [
       "<IPython.core.display.Image object>"
      ]
     },
     "execution_count": 6,
     "metadata": {
      "image/png": {
       "height": 362,
       "width": 299
      }
     },
     "output_type": "execute_result"
    }
   ],
   "source": [
    "from keras.utils import plot_model\n",
    "plot_model(model, show_shapes=True, to_file='model.png')\n",
    "from IPython.display import Image\n",
    "Image(retina=True, filename='model.png')"
   ]
  },
  {
   "cell_type": "markdown",
   "metadata": {},
   "source": [
    "## 04.2 - Arquitecturas  avanzadas"
   ]
  },
  {
   "cell_type": "markdown",
   "metadata": {},
   "source": [
    "### 04.2.1 -  Batch Normalization"
   ]
  },
  {
   "cell_type": "markdown",
   "metadata": {},
   "source": [
    "Es una capa que normaliza datos incluso si la media y varianza de los datos cambian durante el entrenamiento. Ayuda en mejorar el problema de saturación.\n",
    "\n",
    "* Muestras diferentes a algo más simmilar\n",
    "\n",
    "* Generaliza mejor los nuevos datos\n",
    "\n"
   ]
  },
  {
   "cell_type": "markdown",
   "metadata": {},
   "source": [
    "normalized_data = (data - np.mean(data, axis=...)) / np.std(data, axis=...)"
   ]
  },
  {
   "cell_type": "markdown",
   "metadata": {},
   "source": [
    "* Se utiliza usualmente seguido de una capa densa o convolucionañ"
   ]
  },
  {
   "cell_type": "code",
   "execution_count": null,
   "metadata": {},
   "outputs": [],
   "source": [
    "conv_model.add(layers.Conv2D(32, 3, activation='relu')) # After a Conv layer\n",
    "conv_model.add(layers.BatchNormalization())\n",
    "\n",
    "\n",
    "dense_model.add(layers.Dense(32, activation='relu')) # After a Dense layer\n",
    "dense_model.add(layers.BatchNormalization())"
   ]
  },
  {
   "cell_type": "markdown",
   "metadata": {},
   "source": [
    "### 04.2.2 -   DEPTHWISE SEPARABLE CONVOLUTION\n",
    "\n",
    "* Depthwise\n",
    "\n",
    "* Pointwise\n",
    "\n",
    "Genera modelos más ligeros (menos pesos) y más rápidos con mejora en el desempeño.\n",
    "\n",
    "La capa realiza una convoluciónespacial para cada canal de entrada, de forma independiente, despues realiza un mixing a los canales de salida por medio de un poinwise convolution (un convolution filtes de tamaño $1 x 1$)"
   ]
  },
  {
   "cell_type": "code",
   "execution_count": 8,
   "metadata": {},
   "outputs": [
    {
     "name": "stdout",
     "output_type": "stream",
     "text": [
      "_________________________________________________________________\n",
      "Layer (type)                 Output Shape              Param #   \n",
      "=================================================================\n",
      "separable_conv2d_1 (Separabl (None, 62, 62, 32)        155       \n",
      "_________________________________________________________________\n",
      "separable_conv2d_2 (Separabl (None, 60, 60, 64)        2400      \n",
      "_________________________________________________________________\n",
      "max_pooling2d_1 (MaxPooling2 (None, 30, 30, 64)        0         \n",
      "_________________________________________________________________\n",
      "separable_conv2d_3 (Separabl (None, 28, 28, 64)        4736      \n",
      "_________________________________________________________________\n",
      "separable_conv2d_4 (Separabl (None, 26, 26, 128)       8896      \n",
      "_________________________________________________________________\n",
      "max_pooling2d_2 (MaxPooling2 (None, 13, 13, 128)       0         \n",
      "_________________________________________________________________\n",
      "separable_conv2d_5 (Separabl (None, 11, 11, 64)        9408      \n",
      "_________________________________________________________________\n",
      "separable_conv2d_6 (Separabl (None, 9, 9, 128)         8896      \n",
      "_________________________________________________________________\n",
      "global_average_pooling2d_1 ( (None, 128)               0         \n",
      "_________________________________________________________________\n",
      "dense_3 (Dense)              (None, 32)                4128      \n",
      "_________________________________________________________________\n",
      "dense_4 (Dense)              (None, 10)                330       \n",
      "=================================================================\n",
      "Total params: 38,949\n",
      "Trainable params: 38,949\n",
      "Non-trainable params: 0\n",
      "_________________________________________________________________\n"
     ]
    }
   ],
   "source": [
    "from keras.models import Sequential, Model\n",
    "from keras import layers\n",
    "\n",
    "height = 64\n",
    "width = 64\n",
    "channels = 3\n",
    "num_classes = 10\n",
    "\n",
    "model = Sequential()\n",
    "model.add(layers.SeparableConv2D(32, 3, activation='relu', input_shape=(height, width, channels,)))\n",
    "\n",
    "model.add(layers.SeparableConv2D(64, 3, activation='relu'))\n",
    "\n",
    "model.add(layers.MaxPooling2D(2))\n",
    "\n",
    "model.add(layers.SeparableConv2D(64, 3, activation='relu'))\n",
    "\n",
    "model.add(layers.SeparableConv2D(128, 3, activation='relu'))\n",
    "\n",
    "model.add(layers.MaxPooling2D(2))\n",
    "\n",
    "model.add(layers.SeparableConv2D(64, 3, activation='relu'))\n",
    "\n",
    "model.add(layers.SeparableConv2D(128, 3, activation='relu'))\n",
    "\n",
    "model.add(layers.GlobalAveragePooling2D())\n",
    "\n",
    "model.add(layers.Dense(32, activation='relu'))\n",
    "\n",
    "model.add(layers.Dense(num_classes, activation='softmax'))\n",
    "\n",
    "model.compile(optimizer='rmsprop', loss='categorical_crossentropy')\n",
    "\n",
    "model.summary()"
   ]
  },
  {
   "cell_type": "markdown",
   "metadata": {},
   "source": [
    "Visualización del modelo"
   ]
  },
  {
   "cell_type": "code",
   "execution_count": 9,
   "metadata": {},
   "outputs": [
    {
     "data": {
      "image/png": "[encoded data removed]",
      "text/plain": [
       "<IPython.core.display.Image object>"
      ]
     },
     "execution_count": 9,
     "metadata": {
      "image/png": {
       "height": 638,
       "width": 335
      }
     },
     "output_type": "execute_result"
    }
   ],
   "source": [
    "from keras.utils import plot_model\n",
    "plot_model(model, show_shapes=True, to_file='deepthwise.png')\n",
    "from IPython.display import Image\n",
    "Image(retina=True, filename='deepthwise.png')"
   ]
  },
  {
   "cell_type": "markdown",
   "metadata": {},
   "source": [
    "## 04.3 -  Optimización de Hyperparametros"
   ]
  },
  {
   "cell_type": "markdown",
   "metadata": {},
   "source": [
    "Hyperopt (https://github.com/hyperopt/hyperopt)"
   ]
  },
  {
   "cell_type": "markdown",
   "metadata": {},
   "source": [
    "Hyperas (https://github.com/maxpumperla/hyperas)\n",
    "integra Hyperopt para utilizar con los modelos de Keras"
   ]
  },
  {
   "cell_type": "markdown",
   "metadata": {},
   "source": [
    "## 04.4 -  Ensamblado de modelos"
   ]
  },
  {
   "cell_type": "markdown",
   "metadata": {},
   "source": [
    "Se basa en realiza un pooling de las predicciónde de diferentes modelos, con el fin de mejorar la predicción \n",
    "\n",
    "* Trabaja bajo el supuesto de que a diferentes modelos, entrenados de manera diferente, son mejores por distintas razones: cada modelo captira diferencias en la predicción de los datos, obteniendo parte de la verdad en cada uno de ellos."
   ]
  },
  {
   "cell_type": "markdown",
   "metadata": {},
   "source": [
    "Una manera de juntar la predicción es; promediando las predicciones.\n",
    "\n",
    "* Esto solo funciona si los clasificadore son casi igual de buenos"
   ]
  },
  {
   "cell_type": "markdown",
   "metadata": {},
   "source": [
    "preds_a = model_a.predict(x_val)\n",
    "preds_b = model_b.predict(x_val)\n",
    "preds_c = model_c.predict(x_val)\n",
    "preds_d = model_d.predict(x_val)\n",
    "\n",
    "\n",
    "final_preds = 0.25 * (preds_a + preds_b + preds_c + preds_d)\n",
    "\n"
   ]
  },
  {
   "cell_type": "markdown",
   "metadata": {},
   "source": [
    "Otra manera de ensamblarlos es con un promedio ponderado, donde los pesos se pueden aprender. A mejor el clasificador mayor peso"
   ]
  },
  {
   "cell_type": "markdown",
   "metadata": {},
   "source": [
    "preds_a = model_a.predict(x_val)\n",
    "preds_b = model_b.predict(x_val)\n",
    "preds_c = model_c.predict(x_val)\n",
    "preds_d = model_d.predict(x_val)\n",
    "\n",
    "\n",
    "final_preds = 0.5 * preds_a + 0.25 * preds_b + 0.1 * preds_c + 0.15 * preds_d"
   ]
  },
  {
   "cell_type": "markdown",
   "metadata": {},
   "source": [
    "La clave del ensamble es tener clasificadores moderadamente buenos, o buenos, pero que cada uno sea distinto entre si."
   ]
  },
  {
   "cell_type": "markdown",
   "metadata": {},
   "source": [
    " \n"
   ]
  },
  {
   "cell_type": "markdown",
   "metadata": {},
   "source": [
    "### 4.2 Regularización  weight decay L1 (Lasso)  y L2 (Ridge)"
   ]
  },
  {
   "cell_type": "markdown",
   "metadata": {},
   "source": [
    "* Norma L1"
   ]
  },
  {
   "cell_type": "code",
   "execution_count": null,
   "metadata": {},
   "outputs": [],
   "source": [
    "from keras import regularizers\n",
    "\n",
    "kernel_regularizer=regularizers.l1(0.001)\n",
    "\n",
    "# En el modelo\n",
    "\n",
    "model_input = Input(shape = (28*28,))\n",
    "x = Dense(16, kernel_regularizer=regularizers.l1(0.001), activation = \"relu\")(model_input)\n",
    "x = Dense(16, kernel_regularizer=regularizers.l1(0.001), activation = \"relu\")(x)\n",
    "model_output = Dense(10, activation =\"softmax\")(x)"
   ]
  },
  {
   "cell_type": "markdown",
   "metadata": {},
   "source": [
    "* Norma L2"
   ]
  },
  {
   "cell_type": "code",
   "execution_count": null,
   "metadata": {},
   "outputs": [],
   "source": [
    "from keras import regularizers\n",
    "\n",
    "kernel_regularizer=regularizers.l2(0.001)\n",
    "\n",
    "# En el modelo\n",
    "\n",
    "model_input = Input(shape = (28*28,))\n",
    "x = Dense(16, kernel_regularizer=regularizers.l2(0.001), activation = \"relu\")(model_input)\n",
    "x = Dense(16, kernel_regularizer=regularizers.l2(0.001), activation = \"relu\")(x)\n",
    "model_output = Dense(10, activation =\"softmax\")(x)"
   ]
  },
  {
   "cell_type": "markdown",
   "metadata": {},
   "source": [
    "### 4.3 Drop out"
   ]
  },
  {
   "cell_type": "code",
   "execution_count": null,
   "metadata": {},
   "outputs": [],
   "source": [
    "from keras.layers import Dropout\n",
    "\n",
    "Dropout(.5)\n",
    "\n",
    "# En el modelo\n",
    "\n",
    "model_input = Input(shape = (28*28,))\n",
    "x = Dense(16,  activation = \"relu\")(model_input)\n",
    "x = Dropout(.5)(x)\n",
    "x = Dense(16,  activation = \"relu\")(x)\n",
    "x = Dropout(.5)(x)\n",
    "model_output = Dense(10, activation =\"softmax\")(x)\n",
    "\n"
   ]
  },
  {
   "cell_type": "markdown",
   "metadata": {},
   "source": [
    "### Ejercicio 1. Regularización"
   ]
  },
  {
   "cell_type": "code",
   "execution_count": 1,
   "metadata": {},
   "outputs": [
    {
     "name": "stderr",
     "output_type": "stream",
     "text": [
      "Using TensorFlow backend.\n",
      "C:\\Users\\h_air\\.julia\\conda\\3\\lib\\site-packages\\tensorflow\\python\\framework\\dtypes.py:516: FutureWarning: Passing (type, 1) or '1type' as a synonym of type is deprecated; in a future version of numpy, it will be understood as (type, (1,)) / '(1,)type'.\n",
      "  _np_qint8 = np.dtype([(\"qint8\", np.int8, 1)])\n",
      "C:\\Users\\h_air\\.julia\\conda\\3\\lib\\site-packages\\tensorflow\\python\\framework\\dtypes.py:517: FutureWarning: Passing (type, 1) or '1type' as a synonym of type is deprecated; in a future version of numpy, it will be understood as (type, (1,)) / '(1,)type'.\n",
      "  _np_quint8 = np.dtype([(\"quint8\", np.uint8, 1)])\n",
      "C:\\Users\\h_air\\.julia\\conda\\3\\lib\\site-packages\\tensorflow\\python\\framework\\dtypes.py:518: FutureWarning: Passing (type, 1) or '1type' as a synonym of type is deprecated; in a future version of numpy, it will be understood as (type, (1,)) / '(1,)type'.\n",
      "  _np_qint16 = np.dtype([(\"qint16\", np.int16, 1)])\n",
      "C:\\Users\\h_air\\.julia\\conda\\3\\lib\\site-packages\\tensorflow\\python\\framework\\dtypes.py:519: FutureWarning: Passing (type, 1) or '1type' as a synonym of type is deprecated; in a future version of numpy, it will be understood as (type, (1,)) / '(1,)type'.\n",
      "  _np_quint16 = np.dtype([(\"quint16\", np.uint16, 1)])\n",
      "C:\\Users\\h_air\\.julia\\conda\\3\\lib\\site-packages\\tensorflow\\python\\framework\\dtypes.py:520: FutureWarning: Passing (type, 1) or '1type' as a synonym of type is deprecated; in a future version of numpy, it will be understood as (type, (1,)) / '(1,)type'.\n",
      "  _np_qint32 = np.dtype([(\"qint32\", np.int32, 1)])\n",
      "C:\\Users\\h_air\\.julia\\conda\\3\\lib\\site-packages\\tensorflow\\python\\framework\\dtypes.py:525: FutureWarning: Passing (type, 1) or '1type' as a synonym of type is deprecated; in a future version of numpy, it will be understood as (type, (1,)) / '(1,)type'.\n",
      "  np_resource = np.dtype([(\"resource\", np.ubyte, 1)])\n",
      "C:\\Users\\h_air\\.julia\\conda\\3\\lib\\site-packages\\tensorboard\\compat\\tensorflow_stub\\dtypes.py:541: FutureWarning: Passing (type, 1) or '1type' as a synonym of type is deprecated; in a future version of numpy, it will be understood as (type, (1,)) / '(1,)type'.\n",
      "  _np_qint8 = np.dtype([(\"qint8\", np.int8, 1)])\n",
      "C:\\Users\\h_air\\.julia\\conda\\3\\lib\\site-packages\\tensorboard\\compat\\tensorflow_stub\\dtypes.py:542: FutureWarning: Passing (type, 1) or '1type' as a synonym of type is deprecated; in a future version of numpy, it will be understood as (type, (1,)) / '(1,)type'.\n",
      "  _np_quint8 = np.dtype([(\"quint8\", np.uint8, 1)])\n",
      "C:\\Users\\h_air\\.julia\\conda\\3\\lib\\site-packages\\tensorboard\\compat\\tensorflow_stub\\dtypes.py:543: FutureWarning: Passing (type, 1) or '1type' as a synonym of type is deprecated; in a future version of numpy, it will be understood as (type, (1,)) / '(1,)type'.\n",
      "  _np_qint16 = np.dtype([(\"qint16\", np.int16, 1)])\n",
      "C:\\Users\\h_air\\.julia\\conda\\3\\lib\\site-packages\\tensorboard\\compat\\tensorflow_stub\\dtypes.py:544: FutureWarning: Passing (type, 1) or '1type' as a synonym of type is deprecated; in a future version of numpy, it will be understood as (type, (1,)) / '(1,)type'.\n",
      "  _np_quint16 = np.dtype([(\"quint16\", np.uint16, 1)])\n",
      "C:\\Users\\h_air\\.julia\\conda\\3\\lib\\site-packages\\tensorboard\\compat\\tensorflow_stub\\dtypes.py:545: FutureWarning: Passing (type, 1) or '1type' as a synonym of type is deprecated; in a future version of numpy, it will be understood as (type, (1,)) / '(1,)type'.\n",
      "  _np_qint32 = np.dtype([(\"qint32\", np.int32, 1)])\n",
      "C:\\Users\\h_air\\.julia\\conda\\3\\lib\\site-packages\\tensorboard\\compat\\tensorflow_stub\\dtypes.py:550: FutureWarning: Passing (type, 1) or '1type' as a synonym of type is deprecated; in a future version of numpy, it will be understood as (type, (1,)) / '(1,)type'.\n",
      "  np_resource = np.dtype([(\"resource\", np.ubyte, 1)])\n"
     ]
    }
   ],
   "source": [
    "from keras.datasets import mnist\n",
    "(train_images, train_labels), (test_images, test_labels) = mnist.load_data()"
   ]
  },
  {
   "cell_type": "code",
   "execution_count": 2,
   "metadata": {},
   "outputs": [],
   "source": [
    "train_images = train_images.reshape((60000, 28 * 28))\n",
    "train_images = train_images.astype('float32') / 255\n",
    "\n",
    "test_images = test_images.reshape((10000, 28 * 28))\n",
    "test_images = test_images.astype('float32') / 255"
   ]
  },
  {
   "cell_type": "code",
   "execution_count": 3,
   "metadata": {},
   "outputs": [],
   "source": [
    "from keras.utils import to_categorical\n",
    "\n",
    "train_labels = to_categorical(train_labels)\n",
    "test_labels = to_categorical(test_labels)"
   ]
  },
  {
   "cell_type": "markdown",
   "metadata": {},
   "source": [
    "### 1.1 - Regularización en los pesos con norma L1"
   ]
  },
  {
   "cell_type": "code",
   "execution_count": 17,
   "metadata": {},
   "outputs": [
    {
     "name": "stdout",
     "output_type": "stream",
     "text": [
      "Model: \"model_5\"\n",
      "_________________________________________________________________\n",
      "Layer (type)                 Output Shape              Param #   \n",
      "=================================================================\n",
      "input_6 (InputLayer)         (None, 784)               0         \n",
      "_________________________________________________________________\n",
      "dense_12 (Dense)             (None, 16)                12560     \n",
      "_________________________________________________________________\n",
      "dense_13 (Dense)             (None, 16)                272       \n",
      "_________________________________________________________________\n",
      "dense_14 (Dense)             (None, 10)                170       \n",
      "=================================================================\n",
      "Total params: 13,002\n",
      "Trainable params: 13,002\n",
      "Non-trainable params: 0\n",
      "_________________________________________________________________\n"
     ]
    }
   ],
   "source": [
    "from keras import regularizers\n",
    "from keras import Input\n",
    "from keras.layers import Dense\n",
    "from keras import Model\n",
    "\n",
    "l1_model_input = Input(shape = (28*28,))\n",
    "x = Dense(16, kernel_regularizer=regularizers.l1(0.001), activation = \"relu\")(l1_model_input)\n",
    "x = Dense(16, kernel_regularizer=regularizers.l1(0.001), activation = \"relu\")(x)\n",
    "l1_model_output = Dense(10, activation =\"softmax\")(x)\n",
    "\n",
    "model_l1 = Model(l1_model_input, l1_model_output)\n",
    "\n",
    "model_l1.summary()\n",
    "\n",
    "\n",
    "model_l1.compile(optimizer='rmsprop',\n",
    "                loss='categorical_crossentropy',\n",
    "                metrics=['accuracy'])\n",
    "\n",
    "\n"
   ]
  },
  {
   "cell_type": "code",
   "execution_count": 18,
   "metadata": {},
   "outputs": [
    {
     "name": "stdout",
     "output_type": "stream",
     "text": [
      "Train on 48000 samples, validate on 12000 samples\n",
      "Epoch 1/5\n",
      "48000/48000 [==============================] - 2s 38us/step - loss: 1.1378 - acc: 0.7744 - val_loss: 0.7124 - val_acc: 0.8857\n",
      "Epoch 2/5\n",
      "48000/48000 [==============================] - 2s 35us/step - loss: 0.6738 - acc: 0.8894 - val_loss: 0.6027 - val_acc: 0.9062\n",
      "Epoch 3/5\n",
      "48000/48000 [==============================] - 1s 27us/step - loss: 0.6010 - acc: 0.9031 - val_loss: 0.5580 - val_acc: 0.9134\n",
      "Epoch 4/5\n",
      "48000/48000 [==============================] - 1s 24us/step - loss: 0.5625 - acc: 0.9088 - val_loss: 0.5286 - val_acc: 0.9172\n",
      "Epoch 5/5\n",
      "48000/48000 [==============================] - 1s 24us/step - loss: 0.5372 - acc: 0.9123 - val_loss: 0.5343 - val_acc: 0.9084\n",
      "Tiempo de procesamiento (secs):  7.271017789840698\n"
     ]
    }
   ],
   "source": [
    "import time\n",
    "tic=time.time()\n",
    "\n",
    "history_l1 = model_l1.fit(train_images, train_labels, epochs=5, batch_size=128, \n",
    "                 validation_split=0.2)\n",
    "print('Tiempo de procesamiento (secs): ', time.time()-tic)"
   ]
  },
  {
   "cell_type": "code",
   "execution_count": 21,
   "metadata": {},
   "outputs": [
    {
     "data": {
      "image/png": "[encoded data removed]",
      "text/plain": [
       "<Figure size 432x288 with 1 Axes>"
      ]
     },
     "metadata": {
      "needs_background": "light"
     },
     "output_type": "display_data"
    }
   ],
   "source": [
    "import matplotlib.pyplot as plt\n",
    "\n",
    "acc = history_l1.history['acc']\n",
    "val_acc = history_l1.history['val_acc']\n",
    "loss = history_l1.history['loss']\n",
    "val_loss = history_l1.history['val_loss']\n",
    "\n",
    "epochs = range(1, len(acc) + 1)\n",
    "\n",
    "# \"bo\" is for \"blue dot\"\n",
    "plt.plot(epochs, loss, 'bo', label='Training loss')\n",
    "# b is for \"solid blue line\"\n",
    "plt.plot(epochs, val_loss, 'b', label='Validation loss')\n",
    "plt.title('Training and validation loss')\n",
    "plt.xlabel('Epochs')\n",
    "plt.ylabel('Loss')\n",
    "plt.legend()\n",
    "\n",
    "plt.show()"
   ]
  },
  {
   "cell_type": "code",
   "execution_count": 22,
   "metadata": {},
   "outputs": [
    {
     "name": "stdout",
     "output_type": "stream",
     "text": [
      "10000/10000 [==============================] - 1s 59us/step\n",
      "test_acc: 0.9081\n"
     ]
    }
   ],
   "source": [
    "test_loss, test_acc = model_l1.evaluate(test_images, test_labels)\n",
    "print('test_acc:', test_acc)"
   ]
  },
  {
   "cell_type": "markdown",
   "metadata": {},
   "source": [
    "### 1.2 - Regularización en los pesos con norma L2"
   ]
  },
  {
   "cell_type": "code",
   "execution_count": 28,
   "metadata": {},
   "outputs": [
    {
     "name": "stdout",
     "output_type": "stream",
     "text": [
      "Model: \"model_7\"\n",
      "_________________________________________________________________\n",
      "Layer (type)                 Output Shape              Param #   \n",
      "=================================================================\n",
      "input_8 (InputLayer)         (None, 784)               0         \n",
      "_________________________________________________________________\n",
      "dense_18 (Dense)             (None, 16)                12560     \n",
      "_________________________________________________________________\n",
      "dense_19 (Dense)             (None, 16)                272       \n",
      "_________________________________________________________________\n",
      "dense_20 (Dense)             (None, 10)                170       \n",
      "=================================================================\n",
      "Total params: 13,002\n",
      "Trainable params: 13,002\n",
      "Non-trainable params: 0\n",
      "_________________________________________________________________\n"
     ]
    }
   ],
   "source": [
    "l2_model_input = Input(shape = (28*28,))\n",
    "x = Dense(16, kernel_regularizer=regularizers.l2(0.001), activation = \"relu\")(l2_model_input)\n",
    "x = Dense(16, kernel_regularizer=regularizers.l2(0.001), activation = \"relu\")(x)\n",
    "l2_model_output = Dense(10, activation =\"softmax\")(x)\n",
    "\n",
    "model_l2 = Model(l2_model_input, l2_model_output)\n",
    "\n",
    "model_l2.summary()\n",
    "\n",
    "\n",
    "model_l2.compile(optimizer='rmsprop',\n",
    "                loss='categorical_crossentropy',\n",
    "                metrics=['accuracy'])\n"
   ]
  },
  {
   "cell_type": "code",
   "execution_count": 29,
   "metadata": {},
   "outputs": [
    {
     "name": "stdout",
     "output_type": "stream",
     "text": [
      "Train on 48000 samples, validate on 12000 samples\n",
      "Epoch 1/5\n",
      "48000/48000 [==============================] - 2s 39us/step - loss: 0.8315 - acc: 0.7844 - val_loss: 0.4343 - val_acc: 0.8937\n",
      "Epoch 2/5\n",
      "48000/48000 [==============================] - 1s 27us/step - loss: 0.4012 - acc: 0.9072 - val_loss: 0.3540 - val_acc: 0.9202\n",
      "Epoch 3/5\n",
      "48000/48000 [==============================] - 1s 26us/step - loss: 0.3551 - acc: 0.9190 - val_loss: 0.3332 - val_acc: 0.9232\n",
      "Epoch 4/5\n",
      "48000/48000 [==============================] - 1s 27us/step - loss: 0.3334 - acc: 0.9240 - val_loss: 0.3139 - val_acc: 0.9305\n",
      "Epoch 5/5\n",
      "48000/48000 [==============================] - 1s 30us/step - loss: 0.3174 - acc: 0.9293 - val_loss: 0.2999 - val_acc: 0.9354\n",
      "Tiempo de procesamiento (secs):  7.286818981170654\n"
     ]
    }
   ],
   "source": [
    "import time\n",
    "tic=time.time()\n",
    "\n",
    "history_l2 = model_l2.fit(train_images, train_labels, epochs=5, batch_size=128, \n",
    "                 validation_split=0.2)\n",
    "print('Tiempo de procesamiento (secs): ', time.time()-tic)"
   ]
  },
  {
   "cell_type": "code",
   "execution_count": 30,
   "metadata": {},
   "outputs": [
    {
     "data": {
      "image/png": "[encoded data removed]",
      "text/plain": [
       "<Figure size 432x288 with 1 Axes>"
      ]
     },
     "metadata": {
      "needs_background": "light"
     },
     "output_type": "display_data"
    }
   ],
   "source": [
    "acc = history_l2.history['acc']\n",
    "val_acc = history_l2.history['val_acc']\n",
    "loss = history_l2.history['loss']\n",
    "val_loss = history_l2.history['val_loss']\n",
    "\n",
    "epochs = range(1, len(acc) + 1)\n",
    "\n",
    "# \"bo\" is for \"blue dot\"\n",
    "plt.plot(epochs, loss, 'bo', label='Training loss')\n",
    "# b is for \"solid blue line\"\n",
    "plt.plot(epochs, val_loss, 'b', label='Validation loss')\n",
    "plt.title('Training and validation loss')\n",
    "plt.xlabel('Epochs')\n",
    "plt.ylabel('Loss')\n",
    "plt.legend()\n",
    "\n",
    "plt.show()"
   ]
  },
  {
   "cell_type": "code",
   "execution_count": 31,
   "metadata": {},
   "outputs": [
    {
     "name": "stdout",
     "output_type": "stream",
     "text": [
      "10000/10000 [==============================] - 0s 35us/step\n",
      "test_acc: 0.9332\n"
     ]
    }
   ],
   "source": [
    "test_loss, test_acc = model_l2.evaluate(test_images, test_labels)\n",
    "print('test_acc:', test_acc)"
   ]
  },
  {
   "cell_type": "markdown",
   "metadata": {},
   "source": [
    "### 1.3 Regularización Drop out"
   ]
  },
  {
   "cell_type": "code",
   "execution_count": 38,
   "metadata": {},
   "outputs": [
    {
     "name": "stdout",
     "output_type": "stream",
     "text": [
      "Model: \"model_10\"\n",
      "_________________________________________________________________\n",
      "Layer (type)                 Output Shape              Param #   \n",
      "=================================================================\n",
      "input_11 (InputLayer)        (None, 784)               0         \n",
      "_________________________________________________________________\n",
      "dense_27 (Dense)             (None, 16)                12560     \n",
      "_________________________________________________________________\n",
      "dropout_3 (Dropout)          (None, 16)                0         \n",
      "_________________________________________________________________\n",
      "dense_28 (Dense)             (None, 16)                272       \n",
      "_________________________________________________________________\n",
      "dropout_4 (Dropout)          (None, 16)                0         \n",
      "_________________________________________________________________\n",
      "dense_29 (Dense)             (None, 10)                170       \n",
      "=================================================================\n",
      "Total params: 13,002\n",
      "Trainable params: 13,002\n",
      "Non-trainable params: 0\n",
      "_________________________________________________________________\n",
      "Train on 48000 samples, validate on 12000 samples\n",
      "Epoch 1/5\n",
      "48000/48000 [==============================] - 2s 41us/step - loss: 1.6968 - acc: 0.3840 - val_loss: 0.9482 - val_acc: 0.7437\n",
      "Epoch 2/5\n",
      "48000/48000 [==============================] - 1s 28us/step - loss: 1.3438 - acc: 0.5181 - val_loss: 0.7466 - val_acc: 0.8101\n",
      "Epoch 3/5\n",
      "48000/48000 [==============================] - 1s 28us/step - loss: 1.2408 - acc: 0.5582 - val_loss: 0.6535 - val_acc: 0.8507\n",
      "Epoch 4/5\n",
      "48000/48000 [==============================] - 1s 27us/step - loss: 1.1858 - acc: 0.5823 - val_loss: 0.5930 - val_acc: 0.8703\n",
      "Epoch 5/5\n",
      "48000/48000 [==============================] - 1s 27us/step - loss: 1.1618 - acc: 0.5936 - val_loss: 0.5574 - val_acc: 0.8827\n",
      "Tiempo de procesamiento (secs):  7.443242073059082\n"
     ]
    }
   ],
   "source": [
    "from keras.layers import Dropout\n",
    "\n",
    "model_dropOut_in = Input(shape = (28*28,))\n",
    "x = Dense(16,  activation = \"relu\")(model_dropOut_in)\n",
    "x = Dropout(.5)(x)\n",
    "x = Dense(16,  activation = \"relu\")(x)\n",
    "x = Dropout(.5)(x)\n",
    "lmodel_dropOut_out = Dense(10, activation =\"softmax\")(x)\n",
    "\n",
    "model_dropOut = Model(model_dropOut_in, lmodel_dropOut_out)\n",
    "\n",
    "model_dropOut.summary()\n",
    "\n",
    "\n",
    "model_dropOut.compile(optimizer='rmsprop',\n",
    "                loss='categorical_crossentropy',\n",
    "                metrics=['accuracy'])\n",
    "\n",
    "\n",
    "import time\n",
    "tic=time.time()\n",
    "\n",
    "history_dropOut = model_dropOut.fit(train_images, train_labels, epochs=5, batch_size=128, \n",
    "                 validation_split=0.2)\n",
    "print('Tiempo de procesamiento (secs): ', time.time()-tic)"
   ]
  },
  {
   "cell_type": "code",
   "execution_count": 39,
   "metadata": {},
   "outputs": [
    {
     "data": {
      "image/png": "[encoded data removed]",
      "text/plain": [
       "<Figure size 432x288 with 1 Axes>"
      ]
     },
     "metadata": {
      "needs_background": "light"
     },
     "output_type": "display_data"
    }
   ],
   "source": [
    "acc = history_dropOut.history['acc']\n",
    "val_acc = history_dropOut.history['val_acc']\n",
    "loss = history_dropOut.history['loss']\n",
    "val_loss = history_dropOut.history['val_loss']\n",
    "\n",
    "epochs = range(1, len(acc) + 1)\n",
    "\n",
    "# \"bo\" is for \"blue dot\"\n",
    "plt.plot(epochs, loss, 'bo', label='Training loss')\n",
    "# b is for \"solid blue line\"\n",
    "plt.plot(epochs, val_loss, 'b', label='Validation loss')\n",
    "plt.title('Training and validation loss')\n",
    "plt.xlabel('Epochs')\n",
    "plt.ylabel('Loss')\n",
    "plt.legend()\n",
    "\n",
    "plt.show()"
   ]
  },
  {
   "cell_type": "code",
   "execution_count": 41,
   "metadata": {},
   "outputs": [
    {
     "name": "stdout",
     "output_type": "stream",
     "text": [
      "10000/10000 [==============================] - 0s 34us/step\n",
      "test_acc: 0.8795\n"
     ]
    }
   ],
   "source": [
    "test_loss, test_acc = model_dropOut.evaluate(test_images, test_labels)\n",
    "print('test_acc:', test_acc)"
   ]
  },
  {
   "cell_type": "markdown",
   "metadata": {},
   "source": [
    "### 1.4 Callbacks Early stopping"
   ]
  },
  {
   "cell_type": "code",
   "execution_count": 49,
   "metadata": {},
   "outputs": [
    {
     "name": "stdout",
     "output_type": "stream",
     "text": [
      "Model: \"model_12\"\n",
      "_________________________________________________________________\n",
      "Layer (type)                 Output Shape              Param #   \n",
      "=================================================================\n",
      "input_13 (InputLayer)        (None, 784)               0         \n",
      "_________________________________________________________________\n",
      "dense_33 (Dense)             (None, 16)                12560     \n",
      "_________________________________________________________________\n",
      "dense_34 (Dense)             (None, 16)                272       \n",
      "_________________________________________________________________\n",
      "dense_35 (Dense)             (None, 10)                170       \n",
      "=================================================================\n",
      "Total params: 13,002\n",
      "Trainable params: 13,002\n",
      "Non-trainable params: 0\n",
      "_________________________________________________________________\n"
     ]
    }
   ],
   "source": [
    "from keras.layers import Dropout\n",
    "\n",
    "entrada = Input(shape = (28*28,))\n",
    "x = Dense(16,  activation = \"relu\")(entrada)\n",
    "x = Dense(16,  activation = \"relu\")(x)\n",
    "salida = Dense(10, activation =\"softmax\")(x)\n",
    "\n",
    "modelo = Model(entrada, salida)\n",
    "\n",
    "modelo.summary()\n",
    "\n",
    "\n"
   ]
  },
  {
   "cell_type": "code",
   "execution_count": 50,
   "metadata": {},
   "outputs": [
    {
     "name": "stdout",
     "output_type": "stream",
     "text": [
      "Train on 48000 samples, validate on 12000 samples\n",
      "Epoch 1/75\n",
      "48000/48000 [==============================] - 2s 41us/step - loss: 0.1105 - acc: 0.9618 - val_loss: 0.0528 - val_acc: 0.9827\n",
      "Epoch 2/75\n",
      "48000/48000 [==============================] - 1s 26us/step - loss: 0.0508 - acc: 0.9835 - val_loss: 0.0445 - val_acc: 0.9852\n",
      "Epoch 3/75\n",
      "48000/48000 [==============================] - 1s 25us/step - loss: 0.0441 - acc: 0.9854 - val_loss: 0.0402 - val_acc: 0.9868\n",
      "Epoch 4/75\n",
      "48000/48000 [==============================] - 1s 27us/step - loss: 0.0405 - acc: 0.9867 - val_loss: 0.0381 - val_acc: 0.9874\n",
      "Epoch 5/75\n",
      "48000/48000 [==============================] - 2s 33us/step - loss: 0.0377 - acc: 0.9877 - val_loss: 0.0366 - val_acc: 0.9878\n",
      "Epoch 6/75\n",
      "48000/48000 [==============================] - 1s 30us/step - loss: 0.0355 - acc: 0.9884 - val_loss: 0.0353 - val_acc: 0.9885\n",
      "Epoch 7/75\n",
      "48000/48000 [==============================] - 1s 25us/step - loss: 0.0338 - acc: 0.9889 - val_loss: 0.0342 - val_acc: 0.9888\n",
      "Epoch 8/75\n",
      "48000/48000 [==============================] - 1s 26us/step - loss: 0.0321 - acc: 0.9896 - val_loss: 0.0338 - val_acc: 0.9893\n",
      "Epoch 9/75\n",
      "48000/48000 [==============================] - 1s 31us/step - loss: 0.0309 - acc: 0.9901 - val_loss: 0.0327 - val_acc: 0.9894\n",
      "Epoch 10/75\n",
      "48000/48000 [==============================] - 1s 27us/step - loss: 0.0296 - acc: 0.9903 - val_loss: 0.0315 - val_acc: 0.9899\n",
      "Epoch 11/75\n",
      "48000/48000 [==============================] - 1s 28us/step - loss: 0.0287 - acc: 0.9907 - val_loss: 0.0319 - val_acc: 0.9896\n",
      "Epoch 12/75\n",
      "48000/48000 [==============================] - 1s 28us/step - loss: 0.0277 - acc: 0.9911 - val_loss: 0.0305 - val_acc: 0.9902\n",
      "Epoch 13/75\n",
      "48000/48000 [==============================] - 1s 26us/step - loss: 0.0269 - acc: 0.9913 - val_loss: 0.0296 - val_acc: 0.9901\n",
      "Epoch 14/75\n",
      "48000/48000 [==============================] - 1s 28us/step - loss: 0.0262 - acc: 0.9916 - val_loss: 0.0301 - val_acc: 0.9903\n",
      "Epoch 15/75\n",
      "48000/48000 [==============================] - 1s 26us/step - loss: 0.0255 - acc: 0.9919 - val_loss: 0.0304 - val_acc: 0.9904\n",
      "Epoch 16/75\n",
      "48000/48000 [==============================] - 1s 28us/step - loss: 0.0249 - acc: 0.9920 - val_loss: 0.0297 - val_acc: 0.9903\n",
      "Epoch 17/75\n",
      "48000/48000 [==============================] - 1s 25us/step - loss: 0.0243 - acc: 0.9922 - val_loss: 0.0288 - val_acc: 0.9908\n",
      "Epoch 18/75\n",
      "48000/48000 [==============================] - 1s 26us/step - loss: 0.0239 - acc: 0.9924 - val_loss: 0.0305 - val_acc: 0.9901\n",
      "Epoch 19/75\n",
      "48000/48000 [==============================] - 1s 28us/step - loss: 0.0234 - acc: 0.9926 - val_loss: 0.0297 - val_acc: 0.9906\n",
      "Epoch 20/75\n",
      "48000/48000 [==============================] - 1s 26us/step - loss: 0.0230 - acc: 0.9926 - val_loss: 0.0293 - val_acc: 0.9904\n",
      "Epoch 21/75\n",
      "48000/48000 [==============================] - 1s 26us/step - loss: 0.0225 - acc: 0.9927 - val_loss: 0.0296 - val_acc: 0.9904\n",
      "Epoch 22/75\n",
      "48000/48000 [==============================] - 1s 26us/step - loss: 0.0222 - acc: 0.9929 - val_loss: 0.0291 - val_acc: 0.9906\n",
      "Epoch 23/75\n",
      "48000/48000 [==============================] - 1s 27us/step - loss: 0.0220 - acc: 0.9929 - val_loss: 0.0292 - val_acc: 0.9906\n",
      "Epoch 24/75\n",
      "48000/48000 [==============================] - 1s 29us/step - loss: 0.0215 - acc: 0.9932 - val_loss: 0.0294 - val_acc: 0.9909\n",
      "Epoch 25/75\n",
      "48000/48000 [==============================] - 1s 27us/step - loss: 0.0212 - acc: 0.9933 - val_loss: 0.0291 - val_acc: 0.9909\n",
      "Epoch 26/75\n",
      "48000/48000 [==============================] - 1s 29us/step - loss: 0.0209 - acc: 0.9933 - val_loss: 0.0297 - val_acc: 0.9906\n",
      "Tiempo de procesamiento (secs):  35.43533515930176\n"
     ]
    }
   ],
   "source": [
    "import time\n",
    "import keras\n",
    "\n",
    "callbacks_list = [ keras.callbacks.EarlyStopping( monitor='acc', patience=1,),                 \n",
    "                  keras.callbacks.ModelCheckpoint(filepath='my_model.h5', monitor='val_loss', save_best_only=True,)] \n",
    "\n",
    "modelo.compile(optimizer='rmsprop', loss='binary_crossentropy', metrics=['acc'])\n",
    "\n",
    "\n",
    "tic=time.time()\n",
    "\n",
    "historia = modelo.fit(train_images, train_labels, epochs=75, batch_size=128, callbacks=callbacks_list, validation_split=0.2 )\n",
    "\n",
    "print('Tiempo de procesamiento (secs): ', time.time()-tic)"
   ]
  },
  {
   "cell_type": "code",
   "execution_count": 51,
   "metadata": {},
   "outputs": [
    {
     "data": {
      "image/png": "[encoded data removed]",
      "text/plain": [
       "<Figure size 432x288 with 1 Axes>"
      ]
     },
     "metadata": {
      "needs_background": "light"
     },
     "output_type": "display_data"
    }
   ],
   "source": [
    "acc = historia.history['acc']\n",
    "val_acc = historia.history['val_acc']\n",
    "loss = historia.history['loss']\n",
    "val_loss = historia.history['val_loss']\n",
    "\n",
    "epochs = range(1, len(acc) + 1)\n",
    "\n",
    "# \"bo\" is for \"blue dot\"\n",
    "plt.plot(epochs, loss, 'bo', label='Training loss')\n",
    "# b is for \"solid blue line\"\n",
    "plt.plot(epochs, val_loss, 'b', label='Validation loss')\n",
    "plt.title('Training and validation loss')\n",
    "plt.xlabel('Epochs')\n",
    "plt.ylabel('Loss')\n",
    "plt.legend()\n",
    "\n",
    "plt.show()"
   ]
  },
  {
   "cell_type": "code",
   "execution_count": 52,
   "metadata": {},
   "outputs": [
    {
     "name": "stdout",
     "output_type": "stream",
     "text": [
      "10000/10000 [==============================] - 0s 35us/step\n",
      "test_acc: 0.990899998664856\n"
     ]
    }
   ],
   "source": [
    "test_loss, test_acc = modelo.evaluate(test_images, test_labels)\n",
    "print('test_acc:', test_acc)"
   ]
  },
  {
   "cell_type": "markdown",
   "metadata": {},
   "source": [
    "* Se observa el número de epoca en el cual se detiene el entrenamiento"
   ]
  },
  {
   "cell_type": "code",
   "execution_count": 60,
   "metadata": {},
   "outputs": [
    {
     "name": "stdout",
     "output_type": "stream",
     "text": [
      "26\n"
     ]
    }
   ],
   "source": [
    "epoca = len(historia.epoch) # epoca seleccionada\n",
    "print(epoca)"
   ]
  },
  {
   "cell_type": "markdown",
   "metadata": {},
   "source": [
    "* Eliminamos el modelo y entrenamos con el número de epoca obtenida "
   ]
  },
  {
   "cell_type": "code",
   "execution_count": 56,
   "metadata": {},
   "outputs": [],
   "source": [
    "del modelo"
   ]
  },
  {
   "cell_type": "code",
   "execution_count": 58,
   "metadata": {},
   "outputs": [
    {
     "name": "stdout",
     "output_type": "stream",
     "text": [
      "Model: \"model_13\"\n",
      "_________________________________________________________________\n",
      "Layer (type)                 Output Shape              Param #   \n",
      "=================================================================\n",
      "input_14 (InputLayer)        (None, 784)               0         \n",
      "_________________________________________________________________\n",
      "dense_36 (Dense)             (None, 16)                12560     \n",
      "_________________________________________________________________\n",
      "dense_37 (Dense)             (None, 16)                272       \n",
      "_________________________________________________________________\n",
      "dense_38 (Dense)             (None, 10)                170       \n",
      "=================================================================\n",
      "Total params: 13,002\n",
      "Trainable params: 13,002\n",
      "Non-trainable params: 0\n",
      "_________________________________________________________________\n"
     ]
    }
   ],
   "source": [
    "from keras.layers import Dropout\n",
    "\n",
    "entrada = Input(shape = (28*28,))\n",
    "x = Dense(16,  activation = \"relu\")(entrada)\n",
    "x = Dense(16,  activation = \"relu\")(x)\n",
    "salida = Dense(10, activation =\"softmax\")(x)\n",
    "\n",
    "modelo = Model(entrada, salida)\n",
    "\n",
    "modelo.summary()"
   ]
  },
  {
   "cell_type": "code",
   "execution_count": 59,
   "metadata": {},
   "outputs": [
    {
     "name": "stdout",
     "output_type": "stream",
     "text": [
      "Train on 48000 samples, validate on 12000 samples\n",
      "Epoch 1/26\n",
      "48000/48000 [==============================] - 2s 41us/step - loss: 0.1163 - acc: 0.9593 - val_loss: 0.0576 - val_acc: 0.9816\n",
      "Epoch 2/26\n",
      "48000/48000 [==============================] - 1s 26us/step - loss: 0.0531 - acc: 0.9828 - val_loss: 0.0445 - val_acc: 0.9853\n",
      "Epoch 3/26\n",
      "48000/48000 [==============================] - 1s 29us/step - loss: 0.0441 - acc: 0.9856 - val_loss: 0.0407 - val_acc: 0.9864\n",
      "Epoch 4/26\n",
      "48000/48000 [==============================] - 1s 27us/step - loss: 0.0396 - acc: 0.9872 - val_loss: 0.0379 - val_acc: 0.9873\n",
      "Epoch 5/26\n",
      "48000/48000 [==============================] - 1s 27us/step - loss: 0.0367 - acc: 0.9881 - val_loss: 0.0361 - val_acc: 0.9883\n",
      "Epoch 6/26\n",
      "48000/48000 [==============================] - 1s 26us/step - loss: 0.0347 - acc: 0.9886 - val_loss: 0.0350 - val_acc: 0.9887\n",
      "Epoch 7/26\n",
      "48000/48000 [==============================] - 1s 29us/step - loss: 0.0332 - acc: 0.9893 - val_loss: 0.0334 - val_acc: 0.9894\n",
      "Epoch 8/26\n",
      "48000/48000 [==============================] - 1s 30us/step - loss: 0.0318 - acc: 0.9896 - val_loss: 0.0334 - val_acc: 0.9892\n",
      "Epoch 9/26\n",
      "48000/48000 [==============================] - 1s 27us/step - loss: 0.0308 - acc: 0.9900 - val_loss: 0.0324 - val_acc: 0.9899\n",
      "Epoch 10/26\n",
      "48000/48000 [==============================] - 1s 30us/step - loss: 0.0297 - acc: 0.9903 - val_loss: 0.0323 - val_acc: 0.9898\n",
      "Epoch 11/26\n",
      "48000/48000 [==============================] - 1s 27us/step - loss: 0.0289 - acc: 0.9907 - val_loss: 0.0324 - val_acc: 0.9898\n",
      "Epoch 12/26\n",
      "48000/48000 [==============================] - 1s 26us/step - loss: 0.0281 - acc: 0.9909 - val_loss: 0.0311 - val_acc: 0.9904\n",
      "Epoch 13/26\n",
      "48000/48000 [==============================] - 1s 28us/step - loss: 0.0274 - acc: 0.9910 - val_loss: 0.0316 - val_acc: 0.9900\n",
      "Epoch 14/26\n",
      "48000/48000 [==============================] - 1s 28us/step - loss: 0.0267 - acc: 0.9913 - val_loss: 0.0322 - val_acc: 0.9898\n",
      "Epoch 15/26\n",
      "48000/48000 [==============================] - 1s 26us/step - loss: 0.0261 - acc: 0.9917 - val_loss: 0.0322 - val_acc: 0.9898\n",
      "Epoch 16/26\n",
      "48000/48000 [==============================] - 1s 31us/step - loss: 0.0256 - acc: 0.9918 - val_loss: 0.0308 - val_acc: 0.9905\n",
      "Epoch 17/26\n",
      "48000/48000 [==============================] - 1s 27us/step - loss: 0.0252 - acc: 0.9920 - val_loss: 0.0308 - val_acc: 0.9903\n",
      "Epoch 18/26\n",
      "48000/48000 [==============================] - 1s 27us/step - loss: 0.0246 - acc: 0.9921 - val_loss: 0.0305 - val_acc: 0.9903\n",
      "Epoch 19/26\n",
      "48000/48000 [==============================] - 1s 26us/step - loss: 0.0242 - acc: 0.9923 - val_loss: 0.0300 - val_acc: 0.9907\n",
      "Epoch 20/26\n",
      "48000/48000 [==============================] - 1s 26us/step - loss: 0.0238 - acc: 0.9924 - val_loss: 0.0309 - val_acc: 0.9905\n",
      "Epoch 21/26\n",
      "48000/48000 [==============================] - 1s 27us/step - loss: 0.0234 - acc: 0.9925 - val_loss: 0.0299 - val_acc: 0.9907\n",
      "Epoch 22/26\n",
      "48000/48000 [==============================] - 1s 26us/step - loss: 0.0229 - acc: 0.9927 - val_loss: 0.0311 - val_acc: 0.9902\n",
      "Epoch 23/26\n",
      "48000/48000 [==============================] - 1s 27us/step - loss: 0.0226 - acc: 0.9928 - val_loss: 0.0299 - val_acc: 0.9906\n",
      "Epoch 24/26\n",
      "48000/48000 [==============================] - 1s 28us/step - loss: 0.0224 - acc: 0.9930 - val_loss: 0.0299 - val_acc: 0.9910\n",
      "Epoch 25/26\n",
      "48000/48000 [==============================] - 1s 27us/step - loss: 0.0220 - acc: 0.9931 - val_loss: 0.0297 - val_acc: 0.9909\n",
      "Epoch 26/26\n",
      "48000/48000 [==============================] - 1s 26us/step - loss: 0.0216 - acc: 0.9932 - val_loss: 0.0301 - val_acc: 0.9907\n",
      "Tiempo de procesamiento (secs):  34.951924324035645\n"
     ]
    }
   ],
   "source": [
    "import time\n",
    "\n",
    "modelo.compile(optimizer='rmsprop', loss='binary_crossentropy', metrics=['acc'])\n",
    "\n",
    "\n",
    "tic=time.time()\n",
    "\n",
    "historia = modelo.fit(train_images, train_labels, epochs= epoca, batch_size=128, validation_split=0.2 )\n",
    "\n",
    "print('Tiempo de procesamiento (secs): ', time.time()-tic)"
   ]
  },
  {
   "cell_type": "code",
   "execution_count": 61,
   "metadata": {},
   "outputs": [
    {
     "data": {
      "image/png": "[encoded data removed]",
      "text/plain": [
       "<Figure size 432x288 with 1 Axes>"
      ]
     },
     "metadata": {
      "needs_background": "light"
     },
     "output_type": "display_data"
    }
   ],
   "source": [
    "acc = historia.history['acc']\n",
    "val_acc = historia.history['val_acc']\n",
    "loss = historia.history['loss']\n",
    "val_loss = historia.history['val_loss']\n",
    "\n",
    "epochs = range(1, len(acc) + 1)\n",
    "\n",
    "# \"bo\" is for \"blue dot\"\n",
    "plt.plot(epochs, loss, 'bo', label='Training loss')\n",
    "# b is for \"solid blue line\"\n",
    "plt.plot(epochs, val_loss, 'b', label='Validation loss')\n",
    "plt.title('Training and validation loss')\n",
    "plt.xlabel('Epochs')\n",
    "plt.ylabel('Loss')\n",
    "plt.legend()\n",
    "\n",
    "plt.show()"
   ]
  },
  {
   "cell_type": "code",
   "execution_count": 62,
   "metadata": {},
   "outputs": [
    {
     "name": "stdout",
     "output_type": "stream",
     "text": [
      "10000/10000 [==============================] - 1s 63us/step\n",
      "test_acc: 0.9905500003814697\n"
     ]
    }
   ],
   "source": [
    "test_loss, test_acc = modelo.evaluate(test_images, test_labels)\n",
    "print('test_acc:', test_acc)"
   ]
  }
 ],
 "metadata": {
  "kernelspec": {
   "display_name": "Python 3",
   "language": "python",
   "name": "python3"
  },
  "language_info": {
   "codemirror_mode": {
    "name": "ipython",
    "version": 3
   },
   "file_extension": ".py",
   "mimetype": "text/x-python",
   "name": "python",
   "nbconvert_exporter": "python",
   "pygments_lexer": "ipython3",
   "version": "3.6.5"
  }
 },
 "nbformat": 4,
 "nbformat_minor": 2
}
